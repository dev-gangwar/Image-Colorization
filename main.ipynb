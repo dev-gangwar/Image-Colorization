{
 "cells": [
  {
   "cell_type": "code",
   "execution_count": 1,
   "metadata": {},
   "outputs": [],
   "source": [
    "import cv2\n",
    "import numpy as np\n",
    "import urllib "
   ]
  },
  {
   "cell_type": "code",
   "execution_count": 2,
   "metadata": {},
   "outputs": [],
   "source": [
    "prototxt_path='models/colorization_deploy_v2.prototxt'\n",
    "model_path='models/colorization_release_v2.caffemodel'\n",
    "kernal_path='models/pts_in_hull.npy'\n",
    "image_path='/home/darik/Desktop/Dev/B/W image colorizer/test4.jpg'\n"
   ]
  },
  {
   "cell_type": "code",
   "execution_count": 3,
   "metadata": {},
   "outputs": [],
   "source": [
    "#using open cv documentation\n",
    "net=cv2.dnn.readNetFromCaffe(prototxt_path,model_path)\n",
    "points=np.load(kernal_path)\n",
    "points=points.transpose().reshape(2,313,1,1)\n",
    "net.getLayer(net.getLayerId('class8_ab')).blobs=[points.astype(np.float32)]\n",
    "net.getLayer(net.getLayerId('conv8_313_rh')).blobs=[np.full([1,313],2.606,dtype=\"float32\")]\n"
   ]
  },
  {
   "cell_type": "code",
   "execution_count": 4,
   "metadata": {},
   "outputs": [],
   "source": [
    "bw_image=cv2.imread(image_path)\n",
    "normalized=bw_image.astype(\"float32\")/255.0\n",
    "lab=cv2.cvtColor(normalized,cv2.COLOR_BGR2LAB)\n",
    "resized_im=cv2.resize(lab,(224,224))\n",
    "L=cv2.split(resized_im)[0]\n",
    "L-=50\n",
    "net.setInput(cv2.dnn.blobFromImage(L))\n",
    "ab=net.forward()[0,:,:,:].transpose((1,2,0))\n",
    "ab=cv2.resize(ab,(bw_image.shape[1],bw_image.shape[0]))\n",
    "L=cv2.split(lab)[0]\n",
    "colorized=np.concatenate((L[:,:,np.newaxis],ab),axis=2)\n",
    "colorized=cv2.cvtColor(colorized,cv2.COLOR_LAB2BGR)\n",
    "colorized=(255.0*colorized).astype(\"uint8\")\n"
   ]
  },
  {
   "cell_type": "code",
   "execution_count": 5,
   "metadata": {},
   "outputs": [],
   "source": [
    "cv2.imshow(\"BW Image\",bw_image)\n",
    "cv2.imshow(\"Colorized\",colorized)\n",
    "cv2.waitKey(0)\n",
    "cv2.destroyAllWindows()\n"
   ]
  }
 ],
 "metadata": {
  "interpreter": {
   "hash": "31f2aee4e71d21fbe5cf8b01ff0e069b9275f58929596ceb00d14d90e3e16cd6"
  },
  "kernelspec": {
   "display_name": "Python 3.9.12 64-bit",
   "language": "python",
   "name": "python3"
  },
  "language_info": {
   "codemirror_mode": {
    "name": "ipython",
    "version": 3
   },
   "file_extension": ".py",
   "mimetype": "text/x-python",
   "name": "python",
   "nbconvert_exporter": "python",
   "pygments_lexer": "ipython3",
   "version": "3.9.12"
  },
  "orig_nbformat": 4
 },
 "nbformat": 4,
 "nbformat_minor": 2
}
